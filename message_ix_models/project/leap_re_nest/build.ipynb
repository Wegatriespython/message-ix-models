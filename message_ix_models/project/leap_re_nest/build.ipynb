{
 "cells": [
  {
   "cell_type": "markdown",
   "id": "7a7ca3fb-b29b-4e81-84e3-117b33ce0de0",
   "metadata": {},
   "source": [
    "# Building a National MESSAGEix-Nexus Model for Zambia"
   ]
  },
  {
   "cell_type": "markdown",
   "id": "3d6b840d-05ed-4759-b29b-c06800c80ef3",
   "metadata": {},
   "source": [
    "### load packages"
   ]
  },
  {
   "cell_type": "code",
   "execution_count": null,
   "id": "33765f42-4179-459f-8d96-c1514d5b4656",
   "metadata": {},
   "outputs": [],
   "source": [
    "# LEAP-RE NEST implementation of a national model\n",
    "\n",
    "import ixmp as ix\n",
    "import message_ix\n",
    "import pandas as pd\n",
    "\n",
    "from message_ix_models.model.water.reporting import report\n",
    "from message_ix_models.project.leap_re_nest.reporting_country import report_all_leapre\n",
    "from message_ix_models.project.leap_re_nest.script import (\n",
    "    add_grid_shares_OnSSET,\n",
    "    add_MLED_demand,\n",
    "    add_WaterCrop,\n",
    ")\n",
    "from message_ix_models.project.leap_re_nest.script.add_timeslice import (\n",
    "    duration_time,\n",
    "    time_setup,\n",
    "    xls_to_df,\n",
    ")\n",
    "from message_ix_models.project.leap_re_nest.utils import add_cap_bound_fossil, map_basin\n",
    "from message_ix_models.util import package_data_path"
   ]
  },
  {
   "cell_type": "markdown",
   "id": "39ea709c-9947-4a60-bf67-9d5fad4ee142",
   "metadata": {},
   "source": [
    "## 1) Generate a Country model. See documentation"
   ]
  },
  {
   "cell_type": "markdown",
   "id": "e4d049db-f93d-490f-8984-e37473e0fcf1",
   "metadata": {},
   "source": [
    "## 2) adjust nodes, years and time-steps\n",
    "2.1 add sub-basin nodes"
   ]
  },
  {
   "cell_type": "code",
   "execution_count": null,
   "id": "091065a4-0dca-475e-a8ab-2d0dba6575bd",
   "metadata": {},
   "outputs": [],
   "source": [
    "# load a scenario\n",
    "# IIASA users\n",
    "# mp = ix.Platform(name=\"ixmp_dev\", jvmargs=[\"-Xmx14G\"])\n",
    "# external users\n",
    "mp = ix.Platform(name='local' , jvmargs=['-Xmx14G'])\n",
    "\n",
    "modelName = \"MESSAGEix_ZM\"\n",
    "scenarioName = \"single_node\"\n",
    "scen2Name = \"sub-units\"\n",
    "\n",
    "# IIASA users\n",
    "# sc_ref = message_ix.Scenario(mp, modelName, scenarioName, cache=True)\n",
    "mp.add_unit(\"km3/month\")\n",
    "mp.add_unit(\"GWa/month\")\n",
    "# sc_ref.to_excel(package_data_path(\"projects\",\"leap_re_nest\",\"ref_scen.xlsx\") )\n",
    "# # external users in local database\n",
    "sc_ref2 = message_ix.Scenario(mp, modelName, \"test\", version='new',annotation=\"load from excel\")\n",
    "\n",
    "sc_ref2.read_excel(package_data_path(\"projects\",\"leap_re_nest\",\"ref_scen.xlsx\"),\n",
    "                    add_units=True,\n",
    "                    init_items=True,\n",
    "                    commit_steps=True)\n",
    "# sc_ref2.commit(\"\")\n",
    "sc_ref2.solve(solve_options={\"lpmethod\": \"4\"},model=\"MESSAGE\")\n",
    "\n",
    "# for all\n",
    "# sc = sc_ref.clone(modelName, scen2Name, keep_solution=False)\n",
    "sc = sc_ref2.clone(modelName, scen2Name,keep_solution=False)\n",
    "\n",
    "sc.check_out()\n",
    "# add basins\n",
    "map_basin(sc)\n",
    "# check\n",
    "sc.set(\"node\")\n",
    "sc.commit(\"add nodes\")\n",
    "\n",
    "# 2.2 add sub-annual time steps\n",
    "n_time = 12  # number of time slices <= file ID\n",
    "file_id = \"12\"\n",
    "model_family = \"ZMB\"\n",
    "set_update = True  # if True, adds time slices and set adjustments\n",
    "last_year = 2060  # either int (year) or None (removes extra years)\n",
    "node_exlude = [\"World\"]\n",
    "\n",
    "xls_file = \"input_data_\" + file_id + \"_\" + model_family + \".xlsx\"\n",
    "path_xls = package_data_path(\"projects\", \"leap_re_nest\", xls_file)\n",
    "\n",
    "if sc.has_solution():\n",
    "    sc.remove_solution()\n",
    "\n",
    "nodes = [x for x in sc.set(\"node\") if x not in [\"World\"] + node_exlude]\n",
    "\n",
    "# 2.2.1) Loading Excel data (time series)\n",
    "xls = pd.ExcelFile(path_xls)\n",
    "\n",
    "# 2.2.1) Updating sets related to time\n",
    "# Adding subannual time slices to the relevant sets\n",
    "duration, df_time, dict_xls = xls_to_df(xls, n_time, nodes)\n",
    "times = df_time[\"time\"].tolist()\n",
    "\n",
    "if set_update:\n",
    "    time_setup(sc, df_time, last_year)\n",
    "    duration_time(sc, df_time)\n",
    "    if last_year:\n",
    "        df = sc.par(\"bound_activity_up\")\n",
    "        assert max(set(df[\"year_act\"])) <= last_year\n",
    "\n",
    "sc.set(\"map_time\")\n",
    "sc.set_as_default()"
   ]
  },
  {
   "cell_type": "markdown",
   "id": "d57f88d0-a0b8-4456-baf4-ef7e1a926de1",
   "metadata": {},
   "source": [
    "### (Optional, look at the scenarios list, run at any time)"
   ]
  },
  {
   "cell_type": "code",
   "execution_count": null,
   "id": "bc72d719-5b3f-45d0-9e05-921be0d9e701",
   "metadata": {},
   "outputs": [],
   "source": [
    "# look at the list of all scenarios with your model name\n",
    "scen_list = mp.scenario_list(default=False)\n",
    "scen_list = scen_list[(scen_list['model']==modelName)]\n",
    "scen_list"
   ]
  },
  {
   "cell_type": "markdown",
   "id": "40ed102e-5da4-4f12-aef9-02ef5934c610",
   "metadata": {},
   "source": [
    "## 3) Demand processing\n",
    "Loading data from MLED and OnSSET"
   ]
  },
  {
   "cell_type": "code",
   "execution_count": null,
   "id": "9fd165d0-2d7d-46e2-80fe-cc6646de0153",
   "metadata": {},
   "outputs": [],
   "source": [
    "# 3) Demand processing\n",
    "\n",
    "# run different project scenarios: baseline, moderate_development, sustainable_development\n",
    "scens = [\"baseline\", \"improved\", \"ambitious\"]\n",
    "for ss in scens:\n",
    "    scen3Name = \"MLED_\" + ss\n",
    "    sc3 = sc.clone(modelName, scen3Name, keep_solution=False)\n",
    "    print(\"Scenario: \", sc3.scenario)\n",
    "    add_MLED_demand.main(sc3, ss)  # to be adapted for scenarios\n",
    "    add_grid_shares_OnSSET.main(sc3, ss)\n",
    "\n",
    "    caseName = sc3.model + \"__\" + sc3.scenario + \"__v\" + str(sc3.version)\n",
    "    # Solving the model\n",
    "    sc3.solve(solve_options={\"lpmethod\": \"4\"}, model=\"MESSAGE\", case=caseName)\n",
    "    sc3.set_as_default()"
   ]
  },
  {
   "cell_type": "markdown",
   "id": "a1d6d0c2-d8f5-44a8-bd77-ce2f17360ba3",
   "metadata": {},
   "source": [
    "## Add water structure\n",
    "### <font color='red'>[TO BE RUN OUTSIDE of Jupyter]</font> \n",
    "copy and paste the following lines one after the other in the command line (right conda environment)"
   ]
  },
  {
   "cell_type": "raw",
   "id": "d52efa06-1782-4c43-9e38-d6d6a67a8eb6",
   "metadata": {},
   "source": [
    "mix-models --url=ixmp://ixmp_dev/MESSAGEix_ZM/MLED_baseline water-ix --regions=ZMB nexus --rcps=7p0 --rels=low\n",
    "mix-models --url=ixmp://ixmp_dev/MESSAGEix_ZM/MLED_improved water-ix --regions=ZMB nexus --rcps=7p0 --rels=low --sdgs=improved\n",
    "mix-models --url=ixmp://ixmp_dev/MESSAGEix_ZM/MLED_ambitious water-ix --regions=ZMB nexus --rcps=7p0 --rels=low --sdgs=ambitious"
   ]
  },
  {
   "cell_type": "markdown",
   "id": "0756d2e8-365f-473a-aac1-a76daa2e9076",
   "metadata": {},
   "source": [
    "## 5) add irrigation and adjust electricity uses in the water\n",
    "back to the jupyter after the presious commands have solved"
   ]
  },
  {
   "cell_type": "code",
   "execution_count": null,
   "id": "8f52e7e1-ebb9-4d5e-b604-25afc05f891d",
   "metadata": {},
   "outputs": [],
   "source": [
    "# %% 5) add irrigation and adjust electricity uses in the water\n",
    "mp.add_timeslice(name=\"year\", category=\"Common\", duration=1)\n",
    "for mm in range(1, 13):\n",
    "    # print(str(mm))\n",
    "    mp.add_timeslice(name=str(mm), category=\"month\", duration=0.08333)\n",
    "\n",
    "scens = [\"baseline\", \"improved\", \"ambitious\"]\n",
    "for ss in scens:\n",
    "    scen_nex_name = \"MLED_\" + ss + \"_nexus\"\n",
    "    scen4Name = \"MLED_\" + ss + \"_nexus_full\"\n",
    "    sc_nexus = message_ix.Scenario(mp, modelName, scen_nex_name, cache=True)\n",
    "    sc4 = sc_nexus.clone(modelName, scen4Name, keep_solution=False)\n",
    "    add_WaterCrop.main(sc4, ss)\n",
    "    if ss == \"ambitious\":\n",
    "        # blocking fossil new capacity after 2020\n",
    "        add_cap_bound_fossil(sc4)\n",
    "    caseName = sc4.model + \"__\" + sc4.scenario + \"__v\" + str(sc4.version)\n",
    "    # Solving the model\n",
    "    sc4.solve(solve_options={\"lpmethod\": \"4\"}, model=\"MESSAGE\", case=caseName)\n",
    "    sc4.set_as_default()\n",
    "    # report\n",
    "    reg = model_family\n",
    "    sdgs = False\n",
    "    report_all_leapre(sc4, reg, sdgs)"
   ]
  }
 ],
 "metadata": {
  "kernelspec": {
   "display_name": "Python 3 (ipykernel)",
   "language": "python",
   "name": "python3"
  },
  "language_info": {
   "codemirror_mode": {
    "name": "ipython",
    "version": 3
   },
   "file_extension": ".py",
   "mimetype": "text/x-python",
   "name": "python",
   "nbconvert_exporter": "python",
   "pygments_lexer": "ipython3",
   "version": "3.11.5"
  }
 },
 "nbformat": 4,
 "nbformat_minor": 5
}
